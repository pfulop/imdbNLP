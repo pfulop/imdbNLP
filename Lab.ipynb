{
 "cells": [
  {
   "cell_type": "code",
   "execution_count": 1,
   "metadata": {
    "collapsed": true
   },
   "outputs": [],
   "source": [
    "import urllib.request\n",
    "import pickle\n",
    "from os import path\n",
    "import numpy as np"
   ]
  },
  {
   "cell_type": "code",
   "execution_count": 2,
   "metadata": {
    "collapsed": true
   },
   "outputs": [],
   "source": [
    "PK_PATH = '/Users/fulop/Downloads/imdb.pkl'"
   ]
  },
  {
   "cell_type": "code",
   "execution_count": 3,
   "metadata": {
    "collapsed": true
   },
   "outputs": [],
   "source": [
    "if not path.isfile(PK_PATH):\n",
    "    urllib.request.urlretrieve('https://s3.amazonaws.com/text-datasets/imdb_full.pkl', PK_PATH)"
   ]
  },
  {
   "cell_type": "code",
   "execution_count": 4,
   "metadata": {
    "collapsed": true
   },
   "outputs": [],
   "source": [
    "f = open(PK_PATH, 'rb')\n",
    "(x_train, labels_train), (x_test, labels_test) = pickle.load(f)"
   ]
  },
  {
   "cell_type": "code",
   "execution_count": 5,
   "metadata": {},
   "outputs": [
    {
     "data": {
      "text/plain": [
       "25000"
      ]
     },
     "execution_count": 5,
     "metadata": {},
     "output_type": "execute_result"
    }
   ],
   "source": [
    "len(x_train)"
   ]
  },
  {
   "cell_type": "code",
   "execution_count": 6,
   "metadata": {
    "collapsed": true
   },
   "outputs": [],
   "source": [
    "import tensorflow as tf"
   ]
  },
  {
   "cell_type": "code",
   "execution_count": 7,
   "metadata": {
    "collapsed": true
   },
   "outputs": [],
   "source": [
    "idx2word = tf.contrib.keras.datasets.imdb.get_word_index()"
   ]
  },
  {
   "cell_type": "code",
   "execution_count": 8,
   "metadata": {
    "collapsed": true
   },
   "outputs": [],
   "source": [
    "idx2word = {v: k for k, v in idx2word.items()}"
   ]
  },
  {
   "cell_type": "code",
   "execution_count": 9,
   "metadata": {},
   "outputs": [
    {
     "data": {
      "text/plain": [
       "'bromwell'"
      ]
     },
     "execution_count": 9,
     "metadata": {},
     "output_type": "execute_result"
    }
   ],
   "source": [
    "idx2word[23022]"
   ]
  },
  {
   "cell_type": "code",
   "execution_count": 10,
   "metadata": {},
   "outputs": [
    {
     "data": {
      "text/plain": [
       "\"bromwell high is a cartoon comedy it ran at the same time as some other programs about school life such as teachers my 35 years in the teaching profession lead me to believe that bromwell high's satire is much closer to reality than is teachers the scramble to survive financially the insightful students who can see right through their pathetic teachers' pomp the pettiness of the whole situation all remind me of the schools i knew and their students when i saw the episode in which a student repeatedly tried to burn down the school i immediately recalled at high a classic line inspector i'm here to sack one of your teachers student welcome to bromwell high i expect that many adults of my age think that bromwell high is far fetched what a pity that it isn't\""
      ]
     },
     "execution_count": 10,
     "metadata": {},
     "output_type": "execute_result"
    }
   ],
   "source": [
    "' '.join([idx2word[o] for o in x_train[0]])"
   ]
  },
  {
   "cell_type": "code",
   "execution_count": 11,
   "metadata": {
    "collapsed": true
   },
   "outputs": [],
   "source": [
    "vocab_size = 5000\n",
    "\n",
    "trn = [np.array([i if i<vocab_size-1 else vocab_size-1 for i in s]) for s in x_train]\n",
    "test = [np.array([i if i<vocab_size-1 else vocab_size-1 for i in s]) for s in x_test]"
   ]
  },
  {
   "cell_type": "code",
   "execution_count": 12,
   "metadata": {
    "collapsed": true
   },
   "outputs": [],
   "source": [
    "trn = tf.contrib.keras.preprocessing.sequence.pad_sequences(trn, maxlen=500, value=0)\n",
    "test = tf.contrib.keras.preprocessing.sequence.pad_sequences(test, maxlen=500, value=0)"
   ]
  },
  {
   "cell_type": "code",
   "execution_count": 13,
   "metadata": {},
   "outputs": [
    {
     "data": {
      "text/plain": [
       "(25000, 500)"
      ]
     },
     "execution_count": 13,
     "metadata": {},
     "output_type": "execute_result"
    }
   ],
   "source": [
    "trn.shape"
   ]
  },
  {
   "cell_type": "code",
   "execution_count": 14,
   "metadata": {
    "collapsed": true
   },
   "outputs": [],
   "source": [
    "tf.reset_default_graph()\n",
    "x_inputs = tf.placeholder(tf.int32, shape=[None, 500])\n",
    "y_labels = tf.placeholder(tf.float32, shape=[None, 1])\n",
    "embeddings = tf.Variable(\n",
    "    tf.random_uniform([5000, 32], -1.0, 1.0))\n",
    "embeddings = tf.nn.embedding_lookup(embeddings, x_inputs)\n",
    "embeddings = tf.reshape(embeddings, [-1,16000])\n",
    "embeddings = tf.layers.dense(\n",
    "                    embeddings,\n",
    "                    100,\n",
    "                    activation=tf.nn.relu,\n",
    "                    name='dense1',\n",
    "                )\n",
    "embeddings = tf.layers.dropout(embeddings, 0.7, name=\"dense_dropout\")\n",
    "embeddings = tf.layers.dense(\n",
    "                    embeddings,\n",
    "                    1,\n",
    "                    activation=tf.nn.sigmoid,\n",
    "                    name='dense2',\n",
    "                )\n"
   ]
  },
  {
   "cell_type": "code",
   "execution_count": 15,
   "metadata": {
    "collapsed": true
   },
   "outputs": [],
   "source": [
    "loss = tf.reduce_mean(tf.nn.sigmoid_cross_entropy_with_logits(logits=embeddings, labels=y_labels))"
   ]
  },
  {
   "cell_type": "code",
   "execution_count": 16,
   "metadata": {
    "collapsed": true
   },
   "outputs": [],
   "source": [
    "optimizer = tf.train.AdamOptimizer(0.01).minimize(loss)"
   ]
  },
  {
   "cell_type": "code",
   "execution_count": 17,
   "metadata": {
    "collapsed": true
   },
   "outputs": [],
   "source": [
    "sess = tf.Session()"
   ]
  },
  {
   "cell_type": "code",
   "execution_count": 18,
   "metadata": {
    "collapsed": true
   },
   "outputs": [],
   "source": [
    "sess.run(tf.global_variables_initializer())\n"
   ]
  },
  {
   "cell_type": "code",
   "execution_count": 19,
   "metadata": {},
   "outputs": [
    {
     "name": "stdout",
     "output_type": "stream",
     "text": [
      "(25000, 1)\n"
     ]
    }
   ],
   "source": [
    "print(np.reshape(labels_train,[-1,1]).shape)"
   ]
  },
  {
   "cell_type": "code",
   "execution_count": 20,
   "metadata": {
    "collapsed": true
   },
   "outputs": [],
   "source": [
    "labels_train = np.reshape(labels_train, [-1, 1])\n",
    "feed_dict = {x_inputs: trn, y_labels: labels_train}\n",
    "res = sess.run([optimizer, loss], feed_dict=feed_dict)"
   ]
  },
  {
   "cell_type": "code",
   "execution_count": 21,
   "metadata": {},
   "outputs": [
    {
     "name": "stdout",
     "output_type": "stream",
     "text": [
      "[None, 0.75212365]\n"
     ]
    }
   ],
   "source": [
    "print(res)"
   ]
  },
  {
   "cell_type": "code",
   "execution_count": 22,
   "metadata": {
    "collapsed": true
   },
   "outputs": [],
   "source": [
    "labels_train = np.reshape(labels_train, [-1, 1])\n",
    "feed_dict = {x_inputs: trn, y_labels: labels_train}\n",
    "res = sess.run([optimizer, loss], feed_dict=feed_dict)"
   ]
  },
  {
   "cell_type": "code",
   "execution_count": 23,
   "metadata": {},
   "outputs": [
    {
     "name": "stdout",
     "output_type": "stream",
     "text": [
      "[None, 0.69310421]\n"
     ]
    }
   ],
   "source": [
    "print(res)"
   ]
  },
  {
   "cell_type": "code",
   "execution_count": 24,
   "metadata": {},
   "outputs": [],
   "source": [
    "sess.close()"
   ]
  },
  {
   "cell_type": "code",
   "execution_count": 27,
   "metadata": {},
   "outputs": [
    {
     "name": "stdout",
     "output_type": "stream",
     "text": [
      "[None, 0.69313937]\n"
     ]
    }
   ],
   "source": [
    "tf.reset_default_graph()\n",
    "x_inputs = tf.placeholder(tf.int32, shape=[None, 500])\n",
    "y_labels = tf.placeholder(tf.float32, shape=[None, 1])\n",
    "embeddings = tf.Variable(\n",
    "    tf.random_uniform([5000, 32], -1.0, 1.0))\n",
    "embeddings = tf.nn.embedding_lookup(embeddings, x_inputs)\n",
    "embeddings = tf.layers.dropout(embeddings, 0.2)\n",
    "embeddings = tf.layers.conv1d(\n",
    "      inputs=embeddings,\n",
    "      filters=64,\n",
    "      kernel_size=5,\n",
    "      padding=\"same\",\n",
    "      activation=tf.nn.relu)\n",
    "embeddings = tf.layers.dropout(embeddings, 0.2)\n",
    "embeddings = tf.layers.max_pooling1d(embeddings, pool_size=2,\n",
    "                                       strides=2)\n",
    "embeddings = tf.reshape(embeddings, [-1,16000])\n",
    "embeddings = tf.layers.dense(\n",
    "                    embeddings,\n",
    "                    100,\n",
    "                    activation=tf.nn.relu,\n",
    "                    name='dense1',\n",
    "                )\n",
    "embeddings = tf.layers.dropout(embeddings, 0.7, name=\"dense_dropout\")\n",
    "embeddings = tf.layers.dense(\n",
    "                    embeddings,\n",
    "                    1,\n",
    "                    activation=tf.nn.sigmoid,\n",
    "                    name='dense2',\n",
    "                )\n",
    "loss = tf.reduce_mean(tf.nn.sigmoid_cross_entropy_with_logits(logits=embeddings, labels=y_labels))\n",
    "optimizer = tf.train.AdamOptimizer(0.01).minimize(loss)\n",
    "sess = tf.Session()\n",
    "sess.run(tf.global_variables_initializer())\n",
    "\n",
    "labels_train = np.reshape(labels_train, [-1, 1])\n",
    "feed_dict = {x_inputs: trn, y_labels: labels_train}\n",
    "res = sess.run([optimizer, loss], feed_dict=feed_dict)\n",
    "res = sess.run([optimizer, loss], feed_dict=feed_dict)\n",
    "print(res)"
   ]
  },
  {
   "cell_type": "code",
   "execution_count": 28,
   "metadata": {
    "collapsed": true
   },
   "outputs": [],
   "source": [
    "sess.close()"
   ]
  },
  {
   "cell_type": "code",
   "execution_count": 30,
   "metadata": {
    "collapsed": true,
    "scrolled": true
   },
   "outputs": [],
   "source": [
    "GLOVE_PATH = '/Users/fulop/Downloads/6B.50d.tgz'"
   ]
  },
  {
   "cell_type": "code",
   "execution_count": 31,
   "metadata": {},
   "outputs": [],
   "source": [
    "if not path.isfile(GLOVE_PATH):\n",
    "    urllib.request.urlretrieve('http://files.fast.ai/models/glove/6B.50d.tgz', GLOVE_PATH)"
   ]
  },
  {
   "cell_type": "code",
   "execution_count": 32,
   "metadata": {
    "collapsed": true
   },
   "outputs": [],
   "source": [
    "GLOVE_FOLDER = '/Users/fulop/Downloads/6B.50d/6B.50d'"
   ]
  },
  {
   "cell_type": "code",
   "execution_count": 39,
   "metadata": {
    "collapsed": true
   },
   "outputs": [],
   "source": [
    "import bcolz"
   ]
  },
  {
   "cell_type": "code",
   "execution_count": 46,
   "metadata": {},
   "outputs": [
    {
     "data": {
      "text/plain": [
       "<_io.BufferedReader name='/Users/fulop/Downloads/6B.50d/6B.50d_words.pkl'>"
      ]
     },
     "execution_count": 46,
     "metadata": {},
     "output_type": "execute_result"
    }
   ],
   "source": [
    "open(GLOVE_FOLDER+'_words.pkl', 'rb')"
   ]
  },
  {
   "cell_type": "code",
   "execution_count": 51,
   "metadata": {
    "collapsed": true
   },
   "outputs": [],
   "source": [
    "def load_vectors():\n",
    "    return (bcolz.open(GLOVE_FOLDER+'.dat')[:],\n",
    "        pickle.load(open(GLOVE_FOLDER+'_words.pkl','rb'), encoding='utf-8'),\n",
    "        pickle.load(open(GLOVE_FOLDER+'_idx.pkl','rb'), encoding='utf-8'))"
   ]
  },
  {
   "cell_type": "code",
   "execution_count": 52,
   "metadata": {},
   "outputs": [],
   "source": [
    "vecs, words, wordidx = load_vectors()"
   ]
  },
  {
   "cell_type": "code",
   "execution_count": 60,
   "metadata": {
    "collapsed": true
   },
   "outputs": [],
   "source": [
    "def create_emb():\n",
    "    n_fact = vecs.shape[1]\n",
    "    emb = np.zeros((vocab_size, n_fact))\n",
    "\n",
    "    for i in range(1,len(emb)):\n",
    "        word = idx2word[i]\n",
    "        if word and re.match(r\"^[a-zA-Z0-9\\-]*$\", word):\n",
    "            src_idx = wordidx[word]\n",
    "            emb[i] = vecs[src_idx]\n",
    "        else:\n",
    "            # If we can't find the word in glove, randomly initialize\n",
    "            emb[i] = np.random.normal(scale=0.6, size=(n_fact,))\n",
    "\n",
    "    # This is our \"rare word\" id - we want to randomly initialize\n",
    "    emb[-1] = np.random.normal(scale=0.6, size=(n_fact,))\n",
    "    emb/=3\n",
    "    return emb"
   ]
  },
  {
   "cell_type": "code",
   "execution_count": 61,
   "metadata": {
    "collapsed": true
   },
   "outputs": [],
   "source": [
    "import re"
   ]
  },
  {
   "cell_type": "code",
   "execution_count": 64,
   "metadata": {},
   "outputs": [
    {
     "name": "stdout",
     "output_type": "stream",
     "text": [
      "[  3.96366666e-02   5.08499990e-02  -2.73576677e-02  -2.47146666e-01\n",
      "   2.53056665e-01  -1.61093334e-01  -1.03363335e-01   1.71586672e-01\n",
      "  -3.29026659e-01   2.05856670e-04  -5.01433313e-02   2.79233336e-01\n",
      "  -3.59899998e-01  -1.71533326e-01   4.39599991e-01   2.06689994e-01\n",
      "   4.59299982e-02   1.57026668e-01  -2.42913341e-02  -2.42250005e-01\n",
      "  -2.47053325e-01   2.50876665e-01   2.93933332e-01   9.85366702e-02\n",
      "   4.51599995e-01  -8.56700023e-01  -4.50766683e-01   1.52933329e-01\n",
      "   3.35600019e-01  -3.95200014e-01   1.15790002e+00   2.59660006e-01\n",
      "  -2.43096670e-01   8.36733381e-02  -8.71866643e-02  -1.15613331e-01\n",
      "   1.86136663e-01   2.50326673e-01   1.66099995e-01  -8.94099971e-02\n",
      "  -9.14766686e-04  -6.09933337e-03  -9.36533312e-02   1.84393326e-01\n",
      "   1.25686663e-02   6.18500014e-02  -5.00833342e-02  -1.91706657e-01\n",
      "  -8.89033377e-02   3.07069997e-01]\n"
     ]
    }
   ],
   "source": [
    "print(emb[10])"
   ]
  },
  {
   "cell_type": "code",
   "execution_count": 67,
   "metadata": {},
   "outputs": [
    {
     "name": "stdout",
     "output_type": "stream",
     "text": [
      "<class 'numpy.ndarray'>\n"
     ]
    }
   ],
   "source": [
    "print(type(emb))"
   ]
  },
  {
   "cell_type": "code",
   "execution_count": 69,
   "metadata": {},
   "outputs": [],
   "source": [
    "emb = emb.astype(float)"
   ]
  },
  {
   "cell_type": "code",
   "execution_count": 71,
   "metadata": {},
   "outputs": [
    {
     "name": "stdout",
     "output_type": "stream",
     "text": [
      "[None, 0.69313937]\n"
     ]
    }
   ],
   "source": [
    "tf.reset_default_graph()\n",
    "x_inputs = tf.placeholder(tf.int32, shape=[None, 500])\n",
    "y_labels = tf.placeholder(tf.float32, shape=[None, 1])\n",
    "embeddings = tf.Variable(emb)\n",
    "embeddings = tf.cast(embeddings, tf.float32)\n",
    "embeddings = tf.nn.embedding_lookup(embeddings, x_inputs)\n",
    "embeddings = tf.layers.dropout(embeddings, 0.2)\n",
    "embeddings = tf.layers.conv1d(\n",
    "      inputs=embeddings,\n",
    "      filters=64,\n",
    "      kernel_size=5,\n",
    "      padding=\"same\",\n",
    "      activation=tf.nn.relu)\n",
    "embeddings = tf.layers.dropout(embeddings, 0.2)\n",
    "embeddings = tf.layers.max_pooling1d(embeddings, pool_size=2,\n",
    "                                       strides=2)\n",
    "embeddings = tf.reshape(embeddings, [-1,16000])\n",
    "embeddings = tf.layers.dense(\n",
    "                    embeddings,\n",
    "                    100,\n",
    "                    activation=tf.nn.relu,\n",
    "                    name='dense1',\n",
    "                )\n",
    "embeddings = tf.layers.dropout(embeddings, 0.7, name=\"dense_dropout\")\n",
    "embeddings = tf.layers.dense(\n",
    "                    embeddings,\n",
    "                    1,\n",
    "                    activation=tf.nn.sigmoid,\n",
    "                    name='dense2',\n",
    "                )\n",
    "loss = tf.reduce_mean(tf.nn.sigmoid_cross_entropy_with_logits(logits=embeddings, labels=y_labels))\n",
    "optimizer = tf.train.AdamOptimizer(0.01).minimize(loss)\n",
    "sess = tf.Session()\n",
    "sess.run(tf.global_variables_initializer())\n",
    "\n",
    "labels_train = np.reshape(labels_train, [-1, 1])\n",
    "feed_dict = {x_inputs: trn, y_labels: labels_train}\n",
    "res = sess.run([optimizer, loss], feed_dict=feed_dict)\n",
    "res = sess.run([optimizer, loss], feed_dict=feed_dict)\n",
    "print(res)"
   ]
  },
  {
   "cell_type": "code",
   "execution_count": null,
   "metadata": {
    "collapsed": true
   },
   "outputs": [],
   "source": []
  }
 ],
 "metadata": {
  "kernelspec": {
   "display_name": "Python 3",
   "language": "python",
   "name": "python3"
  },
  "language_info": {
   "codemirror_mode": {
    "name": "ipython",
    "version": 3
   },
   "file_extension": ".py",
   "mimetype": "text/x-python",
   "name": "python",
   "nbconvert_exporter": "python",
   "pygments_lexer": "ipython3",
   "version": "3.6.2"
  }
 },
 "nbformat": 4,
 "nbformat_minor": 1
}
